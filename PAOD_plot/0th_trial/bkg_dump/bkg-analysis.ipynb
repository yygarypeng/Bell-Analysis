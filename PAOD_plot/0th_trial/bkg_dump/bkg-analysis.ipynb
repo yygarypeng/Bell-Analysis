{
 "cells": [
  {
   "cell_type": "code",
   "execution_count": 13,
   "metadata": {},
   "outputs": [],
   "source": [
    "%reset -f"
   ]
  },
  {
   "cell_type": "code",
   "execution_count": 14,
   "metadata": {},
   "outputs": [],
   "source": [
    "import numpy as np\n",
    "import pandas as pd\n",
    "import uproot\n",
    "import ROOT\n",
    "from scipy import stats\n",
    "import matplotlib.pyplot as plt\n",
    "import os\n",
    "import time"
   ]
  },
  {
   "cell_type": "code",
   "execution_count": 15,
   "metadata": {},
   "outputs": [],
   "source": [
    "def readData(path, InputFile, trees, leaves):\n",
    "  '''\n",
    "  This is the function to read the data from the input root file. \n",
    "  '''\n",
    "  \n",
    "  file = uproot.open(\"./\" + path + \"/\" + InputFile)\n",
    "  containers = [i for i in range(len(trees))]\n",
    "  for ind, t in enumerate(trees):\n",
    "    containers[ind] = file[t].arrays(leaves, library='pd')\n",
    "  # we want df, which is defined as df = em + me.\n",
    "  df = pd.concat(containers, ignore_index=True)\n",
    "\n",
    "  return df"
   ]
  },
  {
   "cell_type": "code",
   "execution_count": 16,
   "metadata": {},
   "outputs": [
    {
     "name": "stdout",
     "output_type": "stream",
     "text": [
      "CPU times: user 642 ms, sys: 46.6 ms, total: 689 ms\n",
      "Wall time: 1.01 s\n"
     ]
    }
   ],
   "source": [
    "%%time\n",
    "InputFile = \"345324.root\"\n",
    "pathes    = ['base', 'preSelect', 'topology']\n",
    "trees     = ['HWW_me;1', 'HWW_em;1']\n",
    "leaves    = ['Bxy', 'Byz', 'Bxz', 'xi_p_n', 'xi_p_r', 'xi_p_k', 'xi_m_n', 'xi_m_r', 'xi_m_k']\n",
    "\n",
    "data = [i for i in range(len(pathes))]\n",
    "for ind, path in enumerate(pathes):\n",
    "  data[ind] = readData(path, InputFile, trees, leaves)"
   ]
  },
  {
   "cell_type": "code",
   "execution_count": 17,
   "metadata": {},
   "outputs": [],
   "source": [
    "base, preselect, topology = data[0], data[1], data[2]"
   ]
  },
  {
   "cell_type": "code",
   "execution_count": 18,
   "metadata": {},
   "outputs": [],
   "source": [
    "# base\n",
    "base_Bxy = base['Bxy']\n",
    "base_Bxz = base['Bxz']\n",
    "base_Byz = base['Byz']\n",
    "\n",
    "base_xi_p_n = base['xi_p_n']\n",
    "base_xi_p_k = base['xi_p_k']\n",
    "base_xi_p_r = base['xi_p_r']\n",
    "\n",
    "base_xi_m_n = base['xi_m_n']\n",
    "base_xi_m_k = base['xi_m_k']\n",
    "base_xi_m_r = base['xi_m_r']\n",
    "\n",
    "# preselection\n",
    "preselect_Bxy = preselect['Bxy']\n",
    "preselect_Bxz = preselect['Bxz']\n",
    "preselect_Byz = preselect['Byz']\n",
    "\n",
    "preselect_xi_p_n = preselect['xi_p_n']\n",
    "preselect_xi_p_k = preselect['xi_p_k']\n",
    "preselect_xi_p_r = preselect['xi_p_r']\n",
    "\n",
    "preselect_xi_m_n = preselect['xi_m_n']\n",
    "preselect_xi_m_k = preselect['xi_m_k']\n",
    "preselect_xi_m_r = preselect['xi_m_r']\n",
    "\n",
    "# topology\n",
    "topology_Bxy = topology['Bxy']\n",
    "topology_Bxz = topology['Bxz']\n",
    "topology_Byz = topology['Byz']\n",
    "\n",
    "topology_xi_p_n = topology['xi_p_n']\n",
    "topology_xi_p_k = topology['xi_p_k']\n",
    "topology_xi_p_r = topology['xi_p_r']\n",
    "\n",
    "topology_xi_m_n = topology['xi_m_n']\n",
    "topology_xi_m_k = topology['xi_m_k']\n",
    "topology_xi_m_r = topology['xi_m_r']"
   ]
  },
  {
   "cell_type": "code",
   "execution_count": 19,
   "metadata": {},
   "outputs": [
    {
     "name": "stdout",
     "output_type": "stream",
     "text": [
      "\n",
      "      CGLMP Bxy (n,r direction):\n",
      "      Cut_base:4.2954 ± 0.017471; Cut_preselect:4.415 ± 0.018619; Cut_topology:4.8103 ± 0.021147\n",
      "      \n",
      "\n",
      "      CGLMP Bxz (n,k direction):\n",
      "      Cut_base:8.7514 ± 0.023562; Cut_preselect:8.7935 ± 0.024979; Cut_topology:11.014 ± 0.027801\n",
      "      \n",
      "\n",
      "      CGLMP Byz (r,k direction):\n",
      "      Cut_base:5.9534 ± 0.027331; Cut_preselect:6.4359 ± 0.028134; Cut_topology:9.2069 ± 0.030364\n",
      "      \n"
     ]
    }
   ],
   "source": [
    "base_Bxy_avg         = np.average(base_Bxy)\n",
    "preselect_Bxy_avg    = np.average(preselect_Bxy)\n",
    "topology_Bxy_avg     = np.average(topology_Bxy)\n",
    "base_uncert_Bxy      = stats.sem(base_Bxy)\n",
    "preselect_uncert_Bxy = stats.sem(preselect_Bxy)\n",
    "topology_uncert_Bxy  = stats.sem(topology_Bxy)\n",
    "# print(len(base_Bxy))\n",
    "print(f'''\n",
    "      CGLMP Bxy (n,r direction):\n",
    "      Cut_base:{base_Bxy_avg:.5} \\u00B1 {base_uncert_Bxy:.5}; Cut_preselect:{preselect_Bxy_avg:.5} \\u00B1 {preselect_uncert_Bxy:.5}; Cut_topology:{topology_Bxy_avg:.5} \\u00B1 {topology_uncert_Bxy:.5}\n",
    "      ''')\n",
    "\n",
    "base_Bxz_avg         = np.average(base_Bxz)\n",
    "preselect_Bxz_avg    = np.average(preselect_Bxz)\n",
    "topology_Bxz_avg     = np.average(topology_Bxz)\n",
    "base_uncert_Bxz      = stats.sem(base_Bxz)\n",
    "preselect_uncert_Bxz = stats.sem(preselect_Bxz)\n",
    "topology_uncert_Bxz  = stats.sem(topology_Bxz)\n",
    "print(f'''\n",
    "      CGLMP Bxz (n,k direction):\n",
    "      Cut_base:{base_Bxz_avg:.5} \\u00B1 {base_uncert_Bxz:.5}; Cut_preselect:{preselect_Bxz_avg:.5} \\u00B1 {preselect_uncert_Bxz:.5}; Cut_topology:{topology_Bxz_avg:.5} \\u00B1 {topology_uncert_Bxz:.5}\n",
    "      ''')\n",
    "\n",
    "base_Byz_avg         = np.average(base_Byz)\n",
    "preselect_Byz_avg    = np.average(preselect_Byz)\n",
    "topology_Byz_avg     = np.average(topology_Byz)\n",
    "base_uncert_Byz      = stats.sem(base_Byz)\n",
    "preselect_uncert_Byz = stats.sem(preselect_Byz)\n",
    "topology_uncert_Byz  = stats.sem(topology_Byz)\n",
    "print(f'''\n",
    "      CGLMP Byz (r,k direction):\n",
    "      Cut_base:{base_Byz_avg:.5} \\u00B1 {base_uncert_Byz:.5}; Cut_preselect:{preselect_Byz_avg:.5} \\u00B1 {preselect_uncert_Byz:.5}; Cut_topology:{topology_Byz_avg:.5} \\u00B1 {topology_uncert_Byz:.5}\n",
    "      ''')"
   ]
  },
  {
   "cell_type": "code",
   "execution_count": 20,
   "metadata": {},
   "outputs": [],
   "source": [
    "def plot(data1, data2, data3, label, title, name,  binNum=50, grid=False, show=False, avg=False):\n",
    "  path = './photos'\n",
    "  if not os.path.isdir(path):\n",
    "      os.mkdir(path)\n",
    "      \n",
    "  fig = plt.figure(figsize=(10,6), dpi=120)\n",
    "  plt.hist(data1, bins=binNum, color='tab:red', alpha=.5, label=label[0], density=True, histtype='stepfilled')\n",
    "  plt.hist(data2, bins=binNum, color='tab:green', alpha=.5, label=label[1], density=True,  histtype='stepfilled')\n",
    "  plt.hist(data3, bins=binNum, color='tab:blue', alpha=.5, label=label[2], density=True, histtype='stepfilled')\n",
    "  plt.title(title)\n",
    "  plt.legend()\n",
    "  if grid == True:\n",
    "    plt.grid(which='both')\n",
    "  plt.savefig(f'./photos/{name}_3plots.png')\n",
    "  if show == True:\n",
    "    plt.show()\n",
    "  plt.close()\n",
    "  \n",
    "  data = [data1, data2, data3]\n",
    "  if avg == True:\n",
    "    for i, d in enumerate(data):\n",
    "      print(f'''\n",
    "            The average of {name} with cut {label[i]} is {np.average(d):.5} \\u00B1 {stats.sem(d):.5}\n",
    "            ''')\n",
    "  \n",
    "  fig = plt.figure(figsize=(15,5), dpi=120)\n",
    "  plt.subplot(1,3,1)\n",
    "  plt.hist(data1, bins=binNum, color='tab:red', alpha=.6, label=label[0], density=True, histtype='step')\n",
    "  plt.hist(data2, bins=binNum, color='tab:green', alpha=.6, label=label[1], density=True, histtype='step')\n",
    "  plt.title(title+f' {label[0]}+{label[1]}')\n",
    "  plt.legend()\n",
    "  plt.subplot(1,3,2)\n",
    "  plt.hist(data2, bins=binNum, color='tab:green', alpha=.6, label=label[1], density=True, histtype='step')\n",
    "  plt.hist(data3, bins=binNum, color='tab:blue', alpha=.6, label=label[2], density=True, histtype='step')\n",
    "  plt.legend()\n",
    "  plt.title(title+f' {label[1]}+{label[2]}')\n",
    "  plt.subplot(1,3,3)\n",
    "  plt.hist(data1, bins=binNum, color='tab:red', alpha=.6, label=label[0], density=True, histtype='step')\n",
    "  plt.hist(data3, bins=binNum, color='tab:blue', alpha=.6, label=label[2], density=True, histtype='step')\n",
    "  plt.legend()\n",
    "  plt.title(title+f' {label[0]}+{label[2]}')\n",
    "  fig.tight_layout()\n",
    "  plt.savefig(f'./photos/{name}_comparisons.png')\n",
    "  if show == True:\n",
    "    plt.show()\n",
    "  plt.close()"
   ]
  },
  {
   "cell_type": "code",
   "execution_count": 21,
   "metadata": {},
   "outputs": [],
   "source": [
    "label = ['base', 'preseletion', 'topology']"
   ]
  },
  {
   "cell_type": "code",
   "execution_count": 22,
   "metadata": {},
   "outputs": [],
   "source": [
    "plot(base_Bxy, preselect_Bxy, topology_Bxy, label, 'Bxy', 'Bxy', grid=False)\n",
    "plot(base_Bxz, preselect_Bxz, topology_Bxz, label, 'Bxz', 'Bxz', grid=False)\n",
    "plot(base_Byz, preselect_Byz, topology_Byz, label, 'Byz', 'Byz', grid=False)"
   ]
  },
  {
   "cell_type": "code",
   "execution_count": 23,
   "metadata": {},
   "outputs": [
    {
     "name": "stdout",
     "output_type": "stream",
     "text": [
      "\n",
      "            The average of xi_p_n with cut base is 0.00051232 ± 0.00096607\n",
      "            \n",
      "\n",
      "            The average of xi_p_n with cut preseletion is 0.00039458 ± 0.0010383\n",
      "            \n",
      "\n",
      "            The average of xi_p_n with cut topology is -0.00093495 ± 0.0011974\n",
      "            \n",
      "\n",
      "            The average of xi_p_r with cut base is -0.00098825 ± 0.0011902\n",
      "            \n",
      "\n",
      "            The average of xi_p_r with cut preseletion is 0.00097221 ± 0.001243\n",
      "            \n",
      "\n",
      "            The average of xi_p_r with cut topology is -0.0019585 ± 0.0013668\n",
      "            \n",
      "\n",
      "            The average of xi_p_k with cut base is 0.087538 ± 0.0014887\n",
      "            \n",
      "\n",
      "            The average of xi_p_k with cut preseletion is 0.074257 ± 0.0015588\n",
      "            \n",
      "\n",
      "            The average of xi_p_k with cut topology is 0.014256 ± 0.0018494\n",
      "            \n"
     ]
    }
   ],
   "source": [
    "plot(base_xi_p_n, preselect_xi_p_n, topology_xi_p_n, label, r'$\\xi_{p}^n$', 'xi_p_n', grid=False, avg=True)\n",
    "plot(base_xi_p_r, preselect_xi_p_r, topology_xi_p_r, label, r'$\\xi_{p}^r$', 'xi_p_r', grid=False, avg=True)\n",
    "plot(base_xi_p_k, preselect_xi_p_k, topology_xi_p_k, label, r'$\\xi_{p}^k$', 'xi_p_k', grid=False, avg=True)"
   ]
  },
  {
   "cell_type": "code",
   "execution_count": 24,
   "metadata": {},
   "outputs": [
    {
     "name": "stdout",
     "output_type": "stream",
     "text": [
      "\n",
      "            The average of xi_m_n with cut base is 0.00051232 ± 0.00096607\n",
      "            \n",
      "\n",
      "            The average of xi_m_n with cut preseletion is 0.00039458 ± 0.0010383\n",
      "            \n",
      "\n",
      "            The average of xi_m_n with cut topology is -0.00093495 ± 0.0011974\n",
      "            \n",
      "\n",
      "            The average of xi_m_r with cut base is -0.00098825 ± 0.0011902\n",
      "            \n",
      "\n",
      "            The average of xi_m_r with cut preseletion is 0.00097221 ± 0.001243\n",
      "            \n",
      "\n",
      "            The average of xi_m_r with cut topology is -0.0019585 ± 0.0013668\n",
      "            \n",
      "\n",
      "            The average of xi_m_k with cut base is 0.087538 ± 0.0014887\n",
      "            \n",
      "\n",
      "            The average of xi_m_k with cut preseletion is 0.074257 ± 0.0015588\n",
      "            \n",
      "\n",
      "            The average of xi_m_k with cut topology is 0.014256 ± 0.0018494\n",
      "            \n"
     ]
    }
   ],
   "source": [
    "plot(base_xi_m_n, preselect_xi_m_n, topology_xi_m_n, label, r'$\\xi_{m}^n$', 'xi_m_n', grid=False, avg=True)\n",
    "plot(base_xi_m_r, preselect_xi_m_r, topology_xi_m_r, label, r'$\\xi_{m}^r$', 'xi_m_r', grid=False, avg=True)\n",
    "plot(base_xi_m_k, preselect_xi_m_k, topology_xi_m_k, label, r'$\\xi_{m}^k$', 'xi_m_k', grid=False, avg=True)"
   ]
  }
 ],
 "metadata": {
  "kernelspec": {
   "display_name": "cern",
   "language": "python",
   "name": "python3"
  },
  "language_info": {
   "codemirror_mode": {
    "name": "ipython",
    "version": 3
   },
   "file_extension": ".py",
   "mimetype": "text/x-python",
   "name": "python",
   "nbconvert_exporter": "python",
   "pygments_lexer": "ipython3",
   "version": "3.10.10"
  },
  "orig_nbformat": 4
 },
 "nbformat": 4,
 "nbformat_minor": 2
}
