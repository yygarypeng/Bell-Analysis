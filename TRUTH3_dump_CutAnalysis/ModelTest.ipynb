{
 "cells": [
  {
   "cell_type": "markdown",
   "metadata": {},
   "source": [
    "## Bell Study Model Analysis\n",
    "\n",
    "This is the preliminary Bell Study analysis NN model using Keras, AutoKeras, KerasTuner. \n",
    "\n",
    "> Author : Y.Y. Gary Peng  \n",
    "> Istitute: National Tsing Hua University, Taiwan and ATLAS experiment, CERN  \n",
    "> License : MIT  \n",
    "> Data : August 19, 2023  \n",
    "> Email : yuan-yen.peng@cern.ch\n",
    "\n",
    "Version : 1.0\n"
   ]
  },
  {
   "cell_type": "code",
   "execution_count": 1,
   "metadata": {},
   "outputs": [
    {
     "name": "stdout",
     "output_type": "stream",
     "text": [
      "Welcome to JupyROOT 6.28/04\n"
     ]
    }
   ],
   "source": [
    "import os\n",
    "import gc\n",
    "import warnings\n",
    "import numpy as np\n",
    "import pandas as pd\n",
    "from scipy import stats\n",
    "from numba import njit\n",
    "import mplhep as hep\n",
    "import matplotlib.pyplot as plt\n",
    "import plot.AtlasPlot as atlas\n",
    "import glob\n",
    "import uproot\n",
    "import ROOT"
   ]
  },
  {
   "cell_type": "code",
   "execution_count": 2,
   "metadata": {},
   "outputs": [
    {
     "name": "stdout",
     "output_type": "stream",
     "text": [
      "['./truth/archive/CGLMP.npz', './truth/archive/WpBoson.npz', './truth/archive/subLeadLepton.npz', './truth/archive/LeptonP.npz', './truth/archive/Higgs.npz', './truth/archive/LeadLepton.npz', './truth/archive/LeptonM.npz', './truth/archive/xi_xyz.npz', './truth/archive/WmBoson.npz', './truth/archive/LmNu.npz', './truth/archive/LpNu.npz', './truth/archive/MET.npz', './truth/archive/diLepton.npz']\n"
     ]
    },
    {
     "data": {
      "text/plain": [
       "422"
      ]
     },
     "execution_count": 2,
     "metadata": {},
     "output_type": "execute_result"
    }
   ],
   "source": [
    "def get_files_names(path):\n",
    "    files_name = glob.glob(path)\n",
    "    return files_name\n",
    "\n",
    "path = \"./truth/*/*.npz\"\n",
    "files_name = get_files_names(path)\n",
    "print(files_name)\n",
    "\n",
    "def get_data(path):\n",
    "    try:\n",
    "        with np.load(path, allow_pickle=True) as f:\n",
    "            data_dict = {name: f[name] for name in f.files}\n",
    "            return pd.DataFrame(data_dict)\n",
    "    except FileNotFoundError:\n",
    "        print(\"File not found!\")\n",
    "        return pd.DataFrame()\n",
    "    \n",
    "files = []\n",
    "files_name.sort()\n",
    "for f in files_name:\n",
    "    files.append(get_data(f))\n",
    "    \n",
    "# need to check the order of data name.\n",
    "files_name\n",
    "\n",
    "# need to follow the order of data name.\n",
    "(\n",
    "    CGLMP,\n",
    "    Higgs,\n",
    "    LeadLep,\n",
    "    LepM,\n",
    "    LepP,\n",
    "    LmNu,\n",
    "    LpNu,\n",
    "    MET,\n",
    "    Wm,\n",
    "    Wp,\n",
    "    diLep,\n",
    "    SubLep,\n",
    "    Xi,\n",
    ") = files\n",
    "GEV=1e3\n",
    "\n",
    "del files_name, files\n",
    "gc.collect()"
   ]
  },
  {
   "cell_type": "code",
   "execution_count": 3,
   "metadata": {},
   "outputs": [
    {
     "ename": "NotFoundError",
     "evalue": "dlopen(/opt/homebrew/Caskroom/miniconda/base/envs/cern/lib/python3.10/site-packages/tensorflow-plugins/libmetal_plugin.dylib, 0x0006): symbol not found in flat namespace '__ZN10tensorflow8internal10LogMessage16VmoduleActivatedEPKci'",
     "output_type": "error",
     "traceback": [
      "\u001b[0;31m---------------------------------------------------------------------------\u001b[0m",
      "\u001b[0;31mNotFoundError\u001b[0m                             Traceback (most recent call last)",
      "Cell \u001b[0;32mIn[3], line 1\u001b[0m\n\u001b[0;32m----> 1\u001b[0m \u001b[39mimport\u001b[39;00m \u001b[39mtensorflow\u001b[39;00m \u001b[39mas\u001b[39;00m \u001b[39mtf\u001b[39;00m\n\u001b[1;32m      2\u001b[0m \u001b[39mfrom\u001b[39;00m \u001b[39mtensorflow\u001b[39;00m \u001b[39mimport\u001b[39;00m keras\n\u001b[1;32m      4\u001b[0m \u001b[39mprint\u001b[39m(tf\u001b[39m.\u001b[39mversion\u001b[39m.\u001b[39mVERSION)\n",
      "File \u001b[0;32m/opt/homebrew/Caskroom/miniconda/base/envs/cern/lib/python3.10/site-packages/ROOT/_facade.py:154\u001b[0m, in \u001b[0;36mROOTFacade._set_import_hook.<locals>._importhook\u001b[0;34m(name, *args, **kwds)\u001b[0m\n\u001b[1;32m    152\u001b[0m     \u001b[39mexcept\u001b[39;00m \u001b[39mException\u001b[39;00m:\n\u001b[1;32m    153\u001b[0m         \u001b[39mpass\u001b[39;00m\n\u001b[0;32m--> 154\u001b[0m \u001b[39mreturn\u001b[39;00m _orig_ihook(name, \u001b[39m*\u001b[39;49margs, \u001b[39m*\u001b[39;49m\u001b[39m*\u001b[39;49mkwds)\n",
      "File \u001b[0;32m/opt/homebrew/Caskroom/miniconda/base/envs/cern/lib/python3.10/site-packages/tensorflow/__init__.py:444\u001b[0m\n\u001b[1;32m    442\u001b[0m _plugin_dir \u001b[39m=\u001b[39m _os\u001b[39m.\u001b[39mpath\u001b[39m.\u001b[39mjoin(_s, \u001b[39m\"\u001b[39m\u001b[39mtensorflow-plugins\u001b[39m\u001b[39m\"\u001b[39m)\n\u001b[1;32m    443\u001b[0m \u001b[39mif\u001b[39;00m _os\u001b[39m.\u001b[39mpath\u001b[39m.\u001b[39mexists(_plugin_dir):\n\u001b[0;32m--> 444\u001b[0m   _ll\u001b[39m.\u001b[39;49mload_library(_plugin_dir)\n\u001b[1;32m    445\u001b[0m   \u001b[39m# Load Pluggable Device Library\u001b[39;00m\n\u001b[1;32m    446\u001b[0m   _ll\u001b[39m.\u001b[39mload_pluggable_device_library(_plugin_dir)\n",
      "File \u001b[0;32m/opt/homebrew/Caskroom/miniconda/base/envs/cern/lib/python3.10/site-packages/tensorflow/python/framework/load_library.py:151\u001b[0m, in \u001b[0;36mload_library\u001b[0;34m(library_location)\u001b[0m\n\u001b[1;32m    148\u001b[0m     kernel_libraries \u001b[39m=\u001b[39m [library_location]\n\u001b[1;32m    150\u001b[0m   \u001b[39mfor\u001b[39;00m lib \u001b[39min\u001b[39;00m kernel_libraries:\n\u001b[0;32m--> 151\u001b[0m     py_tf\u001b[39m.\u001b[39;49mTF_LoadLibrary(lib)\n\u001b[1;32m    153\u001b[0m \u001b[39melse\u001b[39;00m:\n\u001b[1;32m    154\u001b[0m   \u001b[39mraise\u001b[39;00m \u001b[39mOSError\u001b[39;00m(\n\u001b[1;32m    155\u001b[0m       errno\u001b[39m.\u001b[39mENOENT,\n\u001b[1;32m    156\u001b[0m       \u001b[39m'\u001b[39m\u001b[39mThe file or folder to load kernel libraries from does not exist.\u001b[39m\u001b[39m'\u001b[39m,\n\u001b[1;32m    157\u001b[0m       library_location)\n",
      "\u001b[0;31mNotFoundError\u001b[0m: dlopen(/opt/homebrew/Caskroom/miniconda/base/envs/cern/lib/python3.10/site-packages/tensorflow-plugins/libmetal_plugin.dylib, 0x0006): symbol not found in flat namespace '__ZN10tensorflow8internal10LogMessage16VmoduleActivatedEPKci'"
     ]
    }
   ],
   "source": [
    "import tensorflow as tf\n",
    "from tensorflow import keras\n",
    "\n",
    "print(tf.version.VERSION)"
   ]
  },
  {
   "cell_type": "code",
   "execution_count": null,
   "metadata": {},
   "outputs": [],
   "source": [
    "model = keras.models.load_model('./models/KerasTuner.h5')"
   ]
  },
  {
   "cell_type": "code",
   "execution_count": null,
   "metadata": {},
   "outputs": [],
   "source": []
  }
 ],
 "metadata": {
  "kernelspec": {
   "display_name": "cern",
   "language": "python",
   "name": "python3"
  },
  "language_info": {
   "codemirror_mode": {
    "name": "ipython",
    "version": 3
   },
   "file_extension": ".py",
   "mimetype": "text/x-python",
   "name": "python",
   "nbconvert_exporter": "python",
   "pygments_lexer": "ipython3",
   "version": "3.10.12"
  },
  "orig_nbformat": 4
 },
 "nbformat": 4,
 "nbformat_minor": 2
}
