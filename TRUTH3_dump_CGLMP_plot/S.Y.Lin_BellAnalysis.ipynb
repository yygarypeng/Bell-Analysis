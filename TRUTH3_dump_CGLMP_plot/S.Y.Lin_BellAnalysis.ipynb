{
 "cells": [
  {
   "cell_type": "code",
   "execution_count": 1,
   "id": "1890f542-d37c-42d8-8330-ba90fe906de0",
   "metadata": {},
   "outputs": [],
   "source": [
    "import re\n",
    "import numpy as np\n",
    "import matplotlib.pyplot as plt"
   ]
  },
  {
   "cell_type": "code",
   "execution_count": 2,
   "id": "3d980feb-44f5-4088-bad3-d05b21688c56",
   "metadata": {},
   "outputs": [],
   "source": [
    "file1 = open(\"20221006.txt\",\"r\")"
   ]
  },
  {
   "cell_type": "code",
   "execution_count": 3,
   "id": "a9f824b8-b907-42a0-b65c-da04b52410f1",
   "metadata": {},
   "outputs": [],
   "source": [
    "lines = []\n",
    "for myline in file1:\n",
    "    lines.append(myline)"
   ]
  },
  {
   "cell_type": "code",
   "execution_count": 12,
   "id": "97e1aa22-a1dc-4bc9-acc7-33b0614ffc23",
   "metadata": {},
   "outputs": [
    {
     "name": "stdout",
     "output_type": "stream",
     "text": [
      "7852.42\n",
      "74609.9\n",
      "79659.6\n",
      "3.05673e-08\n",
      "2\n"
     ]
    }
   ],
   "source": [
    "string = \"\tResidual Px: 7852.42\"\n",
    "print(string[14::])\n",
    "string1 = \"W Boson invariant mass: -24 74609.9\"\n",
    "print(string1[28::]) #for W- Boson\n",
    "string2 = \"W Boson invariant mass: 24 79659.6\"\n",
    "print(string2[27::]) #for W+ Boson\n",
    "string3 = \"Higgs invariant mass deviation: 3.05673e-08\"\n",
    "print(string3[32::])\n",
    "string5 = \"nLeptons: 2\"\n",
    "print(string5[10::])"
   ]
  },
  {
   "cell_type": "code",
   "execution_count": null,
   "id": "33afd473-97d5-4488-8ae0-cb96b931eb55",
   "metadata": {},
   "outputs": [],
   "source": [
    "WpMass = []\n",
    "WmMass = []\n",
    "HMass = []\n",
    "HMassDev = []\n",
    "\n",
    "for i in range (nLines):\n",
    "    if \"Higgs Mass Deviation:\" in lines[i]:"
   ]
  },
  {
   "cell_type": "code",
   "execution_count": null,
   "id": "51156a02-7ce0-45c9-8a63-9d198b0d351c",
   "metadata": {},
   "outputs": [],
   "source": [
    "string = \"W boson Invariant Mass: 80995.6\"\n",
    "print(string[24::])\n",
    "string2 = \"W + lv Invariant Mass: 118643\"\n",
    "print(string2[23::])\n",
    "string3 = \"Higgs Mass Deviation: 0.050752 % \"\n",
    "print(string3[22:-3])\n",
    "string4 = (\"nWboson: 0\")\n",
    "print(string4[9::])\n",
    "string5 = (\"Lepton Pair Invariant Mass: 36706\")\n",
    "print(string5[28::])\n",
    "string6 = (\"nLeptons: 4\")\n",
    "print(string6[10::])\n",
    "print(float(string5[28::]))\n",
    "\n",
    "string7 = \"Higgs Px: 2503.4\"\n",
    "print(string7[10::])\n",
    "string8 = \"W + l + nu Px 2503.4\"\n",
    "print(string8[14::])\n",
    "string9 = \"W boson Px: -10963.7\"\n",
    "print(string9[12::])\n",
    "string0 = \"l + nu Px: 13467.1\"\n",
    "print(string0[11::])\n",
    "\n",
    "string11 = \"Check Px conservation:  true\"\n",
    "string\"\tResidual Px: 7852.42\"\n",
    "\n",
    "\n"
   ]
  },
  {
   "cell_type": "code",
   "execution_count": null,
   "id": "4e57c909-5f42-4658-9671-073ccff2e989",
   "metadata": {},
   "outputs": [],
   "source": [
    "nLines = len(lines)\n",
    "HiggsMass = []\n",
    "lvmass = []\n",
    "nWboson = []\n",
    "nLeptons = []\n",
    "WbosonMass=[]\n",
    "wlvmass = []\n",
    "higgsPx = []\n",
    "wPx = []\n",
    "lvPx = []\n",
    "for i in range (nLines):\n",
    "    if \"Higgs Mass Deviation:\" in lines[i]:\n",
    "        HiggsMass.append(float(lines[i][22:-3]))\n",
    "    elif \"Lepton Pair Invariant Mass:\" in lines[i]:\n",
    "        lvmass.append(float(lines[i][28::]))\n",
    "    elif \"W boson Invariant Mass:\" in lines[i]:\n",
    "        WbosonMass.append(float(lines[i][24::]))\n",
    "    elif \"nWboson:\" in lines[i]:\n",
    "        nWboson.append(int(lines[i][9::]))\n",
    "    elif \"nLeptons:\" in lines[i]:\n",
    "        nLeptons.append(int(lines[i][10::]))\n",
    "    elif \"W + lv Invariant Mass:\" in lines[i]:\n",
    "        wlvmass.append(float(lines[i][23::]))\n",
    "    elif \"Higgs Px:\" in lines[i]:\n",
    "        higgsPx.append(float(lines[i][10::]))\n",
    "    elif \"W boson Px:\" in lines[i]:\n",
    "        wPx.append(float(lines[i][12::]))\n",
    "    elif \"l + nu Px:\" in lines[i]:\n",
    "        lvPx.append(float(lines[i][11::]))\n",
    "    \n",
    "higgsPx = np.array(higgsPx)\n",
    "wPx = np.array(wPx)\n",
    "lvPx = np.array(lvPx)\n",
    "lvmass = np.array(lvmass)\n",
    "nWboson = np.array(nWboson)\n",
    "nLeptons = np.array(nLeptons)\n",
    "WbosonMass = np.array(WbosonMass)\n",
    "wlvmass = np.array(wlvmass)\n",
    "HiggsMass = np.array(HiggsMass)\n",
    "print(HiggsMass.shape, lvmass.shape,nWboson.shape, nLeptons.shape, WbosonMass.shape, wlvmass.shape, higgsPx.shape, wPx.shape, lvPx.shape)"
   ]
  },
  {
   "cell_type": "code",
   "execution_count": null,
   "id": "a634ebbc-be72-4a0c-99eb-d164cdc99e0d",
   "metadata": {},
   "outputs": [],
   "source": [
    "fig, ax = plt.subplots(figsize=(12,8))\n",
    "ax.hist(wPx,bins=30,edgecolor = \"white\")\n",
    "ax.tick_params(axis='both', which='major', labelsize=18)\n",
    "ax.tick_params(axis='both', which='minor', labelsize=16)\n",
    "ax.set_title(r\"W Boson Px (4789 events)\",fontsize=24)\n",
    "ax.set_xlabel(r\"Momentum Px (GeV)\",fontsize=20)\n",
    "ax.set_ylabel(\"Counts\",fontsize=20)\n",
    "plt.savefig('W boson Px.png')"
   ]
  },
  {
   "cell_type": "code",
   "execution_count": null,
   "id": "e3c0c2bf-2218-4b4a-8489-250e5c7ecdff",
   "metadata": {},
   "outputs": [],
   "source": [
    "fig, ax = plt.subplots(figsize=(12,8))\n",
    "ax.hist(lvPx,bins=30,edgecolor = \"white\")\n",
    "ax.tick_params(axis='both', which='major', labelsize=18)\n",
    "ax.tick_params(axis='both', which='minor', labelsize=16)\n",
    "ax.set_title(r\"l + $\\nu$ Px (4789 events)\",fontsize=24)\n",
    "ax.set_xlabel(r\"Momentum Px (GeV)\",fontsize=20)\n",
    "ax.set_ylabel(\"Counts\",fontsize=20)\n",
    "plt.savefig('l+v Px.png')"
   ]
  },
  {
   "cell_type": "code",
   "execution_count": null,
   "id": "2c86ea32-dc23-4a4b-965c-3793d77f6fe0",
   "metadata": {},
   "outputs": [],
   "source": [
    "fig, ax = plt.subplots(figsize=(12,8))\n",
    "ax.hist(higgsPx,bins=30,edgecolor = \"white\")\n",
    "ax.tick_params(axis='both', which='major', labelsize=18)\n",
    "ax.tick_params(axis='both', which='minor', labelsize=16)\n",
    "ax.set_title(r\"Higgs Px (4789 events)\",fontsize=24)\n",
    "ax.set_xlabel(r\"Momentum Px (GeV)\",fontsize=20)\n",
    "ax.set_ylabel(\"Counts\",fontsize=20)\n",
    "plt.savefig('Higgs Px.png')"
   ]
  },
  {
   "cell_type": "code",
   "execution_count": null,
   "id": "a4771f72-115e-460f-87fb-96636b9fa7fc",
   "metadata": {},
   "outputs": [],
   "source": [
    "fig, ax = plt.subplots(figsize=(12,8))\n",
    "ax.hist(wlvmass,bins=30,edgecolor = \"white\")\n",
    "ax.tick_params(axis='both', which='major', labelsize=18)\n",
    "ax.tick_params(axis='both', which='minor', labelsize=16) HiggsP4.M()\n",
    "ax.set_title(r\"$W + l\\nu$ Invariant mass (4789 events)\",fontsize=24)\n",
    "ax.set_xlabel(r\"Invariant Mass (GeV)\",fontsize=20)\n",
    "ax.set_ylabel(\"Counts\",fontsize=20)\n",
    "plt.savefig('WLVmass.png')"
   ]
  },
  {
   "cell_type": "code",
   "execution_count": null,
   "id": "59ea955f-7f78-4332-883d-74f65dd439c7",
   "metadata": {},
   "outputs": [],
   "source": [
    "fig, ax = plt.subplots(figsize=(12,8))\n",
    "counts, edges, bars = ax.hist(HiggsMass,bins=30,edgecolor = \"white\")\n",
    "ax.tick_params(axis='both', which='major', labelsize=18)\n",
    "ax.tick_params(axis='both', which='minor', labelsize=16)\n",
    "ax.set_title(r\"$W + l\\nu$ Invariant mass deviation from Higgs (4789 events)\",fontsize=24)\n",
    "ax.set_xlabel(r\"Deviation\",fontsize=20)\n",
    "ax.set_ylabel(\"Counts\",fontsize=20)\n",
    "ax.bar_label(bars)\n",
    "plt.savefig('Higgs.png')"
   ]
  },
  {
   "cell_type": "code",
   "execution_count": null,
   "id": "167dae91-abd5-481a-91af-856867500206",
   "metadata": {},
   "outputs": [],
   "source": [
    "fig, ax = plt.subplots(figsize=(12,8))\n",
    "ax.hist(lvmass,bins=30,edgecolor = \"white\")\n",
    "ax.tick_params(axis='both', which='major', labelsize=18)\n",
    "ax.tick_params(axis='both', which='minor', labelsize=16)\n",
    "ax.set_title(r\"$l\\nu$ Invariant mass (4789 events)\",fontsize=24)\n",
    "ax.set_xlabel(r\"Mass (GeV)\",fontsize=20)\n",
    "ax.set_ylabel(\"Counts\",fontsize=20)\n",
    "plt.savefig('lvmass.png')"
   ]
  },
  {
   "cell_type": "code",
   "execution_count": null,
   "id": "c115ab1d-2408-40b8-9fd4-342245c4b60c",
   "metadata": {},
   "outputs": [],
   "source": [
    "fig, ax = plt.subplots(figsize=(12,8))\n",
    "ax.hist(WbosonMass,bins=30,edgecolor = \"white\")\n",
    "ax.tick_params(axis='both', which='major', labelsize=18)\n",
    "ax.tick_params(axis='both', which='minor', labelsize=16)\n",
    "ax.set_title(r\"W Boson Mass (4789 events)\",fontsize=24)\n",
    "ax.set_xlabel(r\"Mass (GeV)\",fontsize=20)\n",
    "ax.set_ylabel(\"Counts\",fontsize=20)\n",
    "plt.savefig('WBoson.png')"
   ]
  },
  {
   "cell_type": "code",
   "execution_count": null,
   "id": "2ade9acc-eaac-454d-a2d6-29bb37b88f0a",
   "metadata": {},
   "outputs": [],
   "source": [
    "fig, ax = plt.subplots(figsize=(12,8))\n",
    "counts, edges, bars = ax.hist(nWboson,bins=[0,1,2,3],edgecolor = \"white\")\n",
    "ax.tick_params(axis='both', which='major', labelsize=18)\n",
    "ax.tick_params(axis='both', which='minor', labelsize=16)\n",
    "ax.set_title(r\"Identified W boson (10000 events)\",fontsize=24)\n",
    "ax.set_ylabel(\"Counts\",fontsize=20)\n",
    "ax.bar_label(bars, fontsize = 16)\n",
    "plt.savefig('nWboson.png')"
   ]
  },
  {
   "cell_type": "code",
   "execution_count": null,
   "id": "4aecf318-0e7d-4e29-8107-2c3d37d3adc7",
   "metadata": {},
   "outputs": [],
   "source": []
  },
  {
   "cell_type": "code",
   "execution_count": null,
   "id": "4d192ab2-12d0-4bee-9fee-73a7729673fa",
   "metadata": {},
   "outputs": [],
   "source": [
    "fig, ax = plt.subplots(figsize=(12,8))\n",
    "bars = ax.hist(nLeptons,bins=18,edgecolor = \"white\")\n",
    "ax.tick_params(axis='both', which='major', labelsize=18)\n",
    "ax.tick_params(axis='both', which='minor', labelsize=16)\n",
    "ax.set_title(r\"Identified $e\\mu$ leptons (10000 events)\",fontsize=24)\n",
    "ax.set_ylabel(\"Counts\",fontsize=20)\n",
    "plt.savefig('nLeptons.png')"
   ]
  },
  {
   "cell_type": "code",
   "execution_count": null,
   "id": "494074ff-b1df-4f35-ae2b-9b410530e853",
   "metadata": {},
   "outputs": [],
   "source": [
    "print(HiggsMass.shape, lvmass.shape,nWboson.shape, nLeptons.shape, WbosonMass.shape)"
   ]
  },
  {
   "cell_type": "code",
   "execution_count": null,
   "id": "9d66d716-010f-423c-a0c3-b08396b605b2",
   "metadata": {},
   "outputs": [],
   "source": []
  }
 ],
 "metadata": {
  "kernelspec": {
   "display_name": "Python 3 (ipykernel)",
   "language": "python",
   "name": "python3"
  },
  "language_info": {
   "codemirror_mode": {
    "name": "ipython",
    "version": 3
   },
   "file_extension": ".py",
   "mimetype": "text/x-python",
   "name": "python",
   "nbconvert_exporter": "python",
   "pygments_lexer": "ipython3",
   "version": "3.10.7"
  }
 },
 "nbformat": 4,
 "nbformat_minor": 5
}
